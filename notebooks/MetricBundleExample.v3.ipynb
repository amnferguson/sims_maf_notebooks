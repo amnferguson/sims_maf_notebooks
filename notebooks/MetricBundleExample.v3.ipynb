{
 "metadata": {
  "kernelspec": {
   "display_name": "Python 2",
   "language": "python",
   "name": "python2"
  },
  "language_info": {
   "codemirror_mode": {
    "name": "ipython",
    "version": 2
   },
   "file_extension": ".py",
   "mimetype": "text/x-python",
   "name": "python",
   "nbconvert_exporter": "python",
   "pygments_lexer": "ipython2",
   "version": "2.7.9"
  },
  "name": "",
  "signature": "sha256:381a895eaa0aa34bb3452852da991ba76ec4c2e00a914948b730b4f9357d9e93"
 },
 "nbformat": 3,
 "nbformat_minor": 0,
 "worksheets": [
  {
   "cells": [
    {
     "cell_type": "markdown",
     "metadata": {},
     "source": [
      "This notebook provides a demo of the basic capabilities and use of the MAF python interface, using MetricBundle and MetricBundleGroup. To use this notebook, you need a version of MAF >= 1.0, available via eups installation (eups distrib [install](https://confluence.lsstcorp.org/display/SIM/Catalogs+and+MAF) sims_maf -t sims_maf, after installing the base LSST software stack requirements). "
     ]
    },
    {
     "cell_type": "code",
     "collapsed": true,
     "input": [
      "# import matplotlib to show plots here\n",
      "import matplotlib.pyplot as plt\n",
      "%matplotlib inline"
     ],
     "language": "python",
     "metadata": {},
     "outputs": [],
     "prompt_number": 1
    },
    {
     "cell_type": "markdown",
     "metadata": {},
     "source": [
      "Import the sims_maf modules needed."
     ]
    },
    {
     "cell_type": "code",
     "collapsed": false,
     "input": [
      "# import our python modules\n",
      "import lsst.sims.maf.db as db\n",
      "import lsst.sims.maf.metrics as metrics\n",
      "import lsst.sims.maf.slicers as slicers\n",
      "import lsst.sims.maf.stackers as stackers\n",
      "import lsst.sims.maf.metricBundles as metricBundles"
     ],
     "language": "python",
     "metadata": {},
     "outputs": [],
     "prompt_number": 2
    },
    {
     "cell_type": "markdown",
     "metadata": {},
     "source": [
      "'MetricBundles' combine a particular metric, a slicer, and a sqlconstraint. You can also add additional provenance/metadata information to a given benchmark, in the form of the (opsim) runName and a metadata comment. This information will be used to generate outfile filenames and plot labels. A given metricbundle will also store the metric values calculated at each point of the slicer (after this is generated via the 'MetricBundleGroup' methods). \n",
      "\n",
      "To instantiate a MetricBundle, first instantiate a [`Metric`](https://confluence.lsstcorp.org/display/SIM/MAF+Metrics) and [`Slicer`](https://confluence.lsstcorp.org/display/SIM/MAF+Slicers), then the `MetricBundle` to store the combination of the two. Here we'll calculate the minimum airmass value, at each point in a healpix grid."
     ]
    },
    {
     "cell_type": "code",
     "collapsed": false,
     "input": [
      "metric1 = metrics.MinMetric('airmass')\n",
      "slicer1 = slicers.HealpixSlicer(nside=64)\n",
      "sqlconstraint= 'filter = \"r\"'\n",
      "minairmassSky = metricBundles.MetricBundle(metric1, slicer1, sqlconstraint)"
     ],
     "language": "python",
     "metadata": {},
     "outputs": [
      {
       "output_type": "stream",
       "stream": "stdout",
       "text": [
        "Healpix slicer using NSIDE=64, approximate resolution 54.967783 arcminutes\n"
       ]
      }
     ],
     "prompt_number": 3
    },
    {
     "cell_type": "markdown",
     "metadata": {},
     "source": [
      "Here is another example of a `MetricBundle`, this time reusing the same slicer, but changing the metric - this time we'll count the number of visits at each point in the healpix grid."
     ]
    },
    {
     "cell_type": "code",
     "collapsed": false,
     "input": [
      "metric2 = metrics.CountMetric('expMJD')\n",
      "nvisitsSky = metricBundles.MetricBundle(metric2, slicer1, sqlconstraint)"
     ],
     "language": "python",
     "metadata": {},
     "outputs": [],
     "prompt_number": 4
    },
    {
     "cell_type": "markdown",
     "metadata": {},
     "source": [
      "We can also add [\"summary metrics\"](https://confluence.lsstcorp.org/display/SIM/MAF+Summary+Statistics) - metrics that will generate statistical summaries of the metric data values -- and add these to the MetricBundle to run later."
     ]
    },
    {
     "cell_type": "code",
     "collapsed": true,
     "input": [
      "summaryMetrics = [metrics.MinMetric(), metrics.MedianMetric(), metrics.MaxMetric(), metrics.RmsMetric()]\n",
      "minairmassSky.setSummaryMetrics(summaryMetrics)\n",
      "nvisitsSky.setSummaryMetrics(summaryMetrics)"
     ],
     "language": "python",
     "metadata": {},
     "outputs": [],
     "prompt_number": 5
    },
    {
     "cell_type": "markdown",
     "metadata": {},
     "source": [
      "And here is yet another example, where we'll use a different slicer, but the same metrics as above, and add the summaryMetrics directly into the construction of the MetricBundle."
     ]
    },
    {
     "cell_type": "code",
     "collapsed": false,
     "input": [
      "slicer2 = slicers.OneDSlicer(sliceColName='night', binsize=1, binMin=0, binMax=365*10)\n",
      "nvisitsPerNight = metricBundles.MetricBundle(metric1, slicer2, sqlconstraint, summaryMetrics=summaryMetrics)\n",
      "minairmassPerNight = metricBundles.MetricBundle(metric2, slicer2, sqlconstraint, summaryMetrics=summaryMetrics)"
     ],
     "language": "python",
     "metadata": {},
     "outputs": [],
     "prompt_number": 6
    },
    {
     "cell_type": "markdown",
     "metadata": {},
     "source": [
      "---\n",
      "We group MetricBundles with the same sql constraint together into a dictionary, which will be passed to the MetricBundleGroup to run the MetricBundles, calculating the metric values."
     ]
    },
    {
     "cell_type": "code",
     "collapsed": false,
     "input": [
      "bDict = {'minairmassSky':minairmassSky, 'minairmassPerNight':minairmassPerNight, \n",
      "        'nvisitsSky':nvisitsSky, 'nvisitsPerNight':nvisitsPerNight}"
     ],
     "language": "python",
     "metadata": {},
     "outputs": [],
     "prompt_number": 7
    },
    {
     "cell_type": "markdown",
     "metadata": {},
     "source": [
      "Now we set up our connections to the opsim database, and a 'results database' where we will store information about the metricbundles which were run."
     ]
    },
    {
     "cell_type": "code",
     "collapsed": false,
     "input": [
      "opsdb = db.OpsimDatabase('sqlite:///enigma_1189_sqlite.db')\n",
      "outDir = 'bundle_test'\n",
      "resultsDb = db.ResultsDb(outDir=outDir)"
     ],
     "language": "python",
     "metadata": {},
     "outputs": [],
     "prompt_number": 8
    },
    {
     "cell_type": "markdown",
     "metadata": {},
     "source": [
      "Ready to do some calculating! Instantiate the MetricBundleGroup by passing it the dictionary of MetricBundles to run (they must have the same sql constraint), the opsim database object, and optionally, the output directory and the results database object."
     ]
    },
    {
     "cell_type": "code",
     "collapsed": false,
     "input": [
      "bgroup = metricBundles.MetricBundleGroup(bDict, opsdb, outDir=outDir, resultsDb=resultsDb)"
     ],
     "language": "python",
     "metadata": {},
     "outputs": [],
     "prompt_number": 9
    },
    {
     "cell_type": "markdown",
     "metadata": {},
     "source": [
      "The MetricBundleGroup will now query the data from the opsim database and calculate the metric values, using the 'runAll' method. Note that MAF determines what columns you need from the database for your metrics and slicers, and only queries for those. MAF calculates the metrics in an efficient manner, caching results where possible and iterating through each slicer only once for all related metrics. This step also generates the summary statistics set by each bundle's summaryMetrics (these can also be generated or re-generated independently using 'summaryAll on MetricBundleGroup or directly for a single MetricBundle using 'computeSummaryStats')."
     ]
    },
    {
     "cell_type": "code",
     "collapsed": false,
     "input": [
      "bgroup.runAll()"
     ],
     "language": "python",
     "metadata": {},
     "outputs": [
      {
       "output_type": "stream",
       "stream": "stdout",
       "text": [
        "Querying database with constraint filter = \"r\"\n",
        "Found 544710 visits"
       ]
      },
      {
       "output_type": "stream",
       "stream": "stdout",
       "text": [
        "\n",
        "Running:  ['minairmassSky', 'nvisitsSky']\n",
        "Completed metric generation."
       ]
      },
      {
       "output_type": "stream",
       "stream": "stdout",
       "text": [
        "\n",
        "Running:  ['nvisitsPerNight', 'minairmassPerNight']\n",
        "Completed metric generation."
       ]
      },
      {
       "output_type": "stream",
       "stream": "stdout",
       "text": [
        "\n",
        "Running reduce methods.\n",
        "Running summary statistics.\n",
        "Completed."
       ]
      },
      {
       "output_type": "stream",
       "stream": "stdout",
       "text": [
        "\n"
       ]
      }
     ],
     "prompt_number": 10
    },
    {
     "cell_type": "markdown",
     "metadata": {},
     "source": [
      "---\n",
      "The results of the metric calculation are stored as an attribute in each metricbundle, as 'metricValues' - a numpy masked array. The results of the summary statistics are also stored in each metricbundle, in a list called 'summaryValues', which contains lists of the summarymetric name + value. "
     ]
    },
    {
     "cell_type": "code",
     "collapsed": false,
     "input": [
      "nvisitsSky.metricValues"
     ],
     "language": "python",
     "metadata": {},
     "outputs": [
      {
       "metadata": {},
       "output_type": "pyout",
       "prompt_number": 11,
       "text": [
        "masked_array(data = [-- -- -- ..., 30.0 30.0 60.0],\n",
        "             mask = [ True  True  True ..., False False False],\n",
        "       fill_value = -1.6375e+30)"
       ]
      }
     ],
     "prompt_number": 11
    },
    {
     "cell_type": "code",
     "collapsed": false,
     "input": [
      "for k, b in bDict.iteritems():\n",
      "    print '--', k, '--'\n",
      "    for summaryName, summaryVal in b.summaryValues:\n",
      "        print '\\t', summaryName, summaryVal"
     ],
     "language": "python",
     "metadata": {},
     "outputs": [
      {
       "output_type": "stream",
       "stream": "stdout",
       "text": [
        "-- minairmassSky --\n"
       ]
      },
      {
       "ename": "ValueError",
       "evalue": "too many values to unpack",
       "output_type": "pyerr",
       "traceback": [
        "\u001b[0;31m---------------------------------------------------------------------------\u001b[0m\n\u001b[0;31mValueError\u001b[0m                                Traceback (most recent call last)",
        "\u001b[0;32m<ipython-input-12-1ed4988f9fc6>\u001b[0m in \u001b[0;36m<module>\u001b[0;34m()\u001b[0m\n\u001b[1;32m      1\u001b[0m \u001b[0;32mfor\u001b[0m \u001b[0mk\u001b[0m\u001b[0;34m,\u001b[0m \u001b[0mb\u001b[0m \u001b[0;32min\u001b[0m \u001b[0mbDict\u001b[0m\u001b[0;34m.\u001b[0m\u001b[0miteritems\u001b[0m\u001b[0;34m(\u001b[0m\u001b[0;34m)\u001b[0m\u001b[0;34m:\u001b[0m\u001b[0;34m\u001b[0m\u001b[0m\n\u001b[1;32m      2\u001b[0m     \u001b[0;32mprint\u001b[0m \u001b[0;34m'--'\u001b[0m\u001b[0;34m,\u001b[0m \u001b[0mk\u001b[0m\u001b[0;34m,\u001b[0m \u001b[0;34m'--'\u001b[0m\u001b[0;34m\u001b[0m\u001b[0m\n\u001b[0;32m----> 3\u001b[0;31m     \u001b[0;32mfor\u001b[0m \u001b[0msummaryName\u001b[0m\u001b[0;34m,\u001b[0m \u001b[0msummaryVal\u001b[0m \u001b[0;32min\u001b[0m \u001b[0mb\u001b[0m\u001b[0;34m.\u001b[0m\u001b[0msummaryValues\u001b[0m\u001b[0;34m:\u001b[0m\u001b[0;34m\u001b[0m\u001b[0m\n\u001b[0m\u001b[1;32m      4\u001b[0m         \u001b[0;32mprint\u001b[0m \u001b[0;34m'\\t'\u001b[0m\u001b[0;34m,\u001b[0m \u001b[0msummaryName\u001b[0m\u001b[0;34m,\u001b[0m \u001b[0msummaryVal\u001b[0m\u001b[0;34m\u001b[0m\u001b[0m\n",
        "\u001b[0;31mValueError\u001b[0m: too many values to unpack"
       ]
      }
     ],
     "prompt_number": 12
    },
    {
     "cell_type": "markdown",
     "metadata": {},
     "source": [
      "We can save the MetricBundle results to disk. Each MetricBundle has a method called 'write' that writes to disk; using 'writeAll' on the MetricBundleGroup just writes all metricBundles to disk at once as a convenience."
     ]
    },
    {
     "cell_type": "code",
     "collapsed": true,
     "input": [
      "bgroup.writeAll()"
     ],
     "language": "python",
     "metadata": {},
     "outputs": []
    },
    {
     "cell_type": "code",
     "collapsed": false,
     "input": [
      "!ls $outDir"
     ],
     "language": "python",
     "metadata": {},
     "outputs": []
    },
    {
     "cell_type": "markdown",
     "metadata": {},
     "source": [
      "And we can generate plots (which are also saved to disk by default). Again, the MetricBundleGroup has a method called 'plotAll' which will generate all plots for all MetricBundles, but we can call 'plot' on the individual MetricBundles to generate plots just for that bundle. "
     ]
    },
    {
     "cell_type": "code",
     "collapsed": false,
     "input": [
      "bgroup.plotAll()"
     ],
     "language": "python",
     "metadata": {},
     "outputs": []
    },
    {
     "cell_type": "markdown",
     "metadata": {},
     "source": [
      "We can edit the plotting parameters, by setting values in the plotDict associated with each MetricBundle. "
     ]
    },
    {
     "cell_type": "code",
     "collapsed": false,
     "input": [
      "nvisitsSky.plotDict"
     ],
     "language": "python",
     "metadata": {},
     "outputs": []
    },
    {
     "cell_type": "code",
     "collapsed": true,
     "input": [
      "newPlotParams = {'xMin':0, 'xMax':300, 'colorMin':0, 'colorMax':300, 'xlabel':'Nvisits'}\n",
      "nvisitsSky.setPlotDict(newPlotParams)"
     ],
     "language": "python",
     "metadata": {},
     "outputs": []
    },
    {
     "cell_type": "code",
     "collapsed": false,
     "input": [
      "nvisitsSky.plotDict"
     ],
     "language": "python",
     "metadata": {},
     "outputs": []
    },
    {
     "cell_type": "markdown",
     "metadata": {},
     "source": [
      "And replot. (here we'll just replot the skymap)."
     ]
    },
    {
     "cell_type": "code",
     "collapsed": false,
     "input": [
      "nvisitsSky.plot(plotFunc='plotSkyMap')"
     ],
     "language": "python",
     "metadata": {},
     "outputs": []
    }
   ],
   "metadata": {}
  }
 ]
}