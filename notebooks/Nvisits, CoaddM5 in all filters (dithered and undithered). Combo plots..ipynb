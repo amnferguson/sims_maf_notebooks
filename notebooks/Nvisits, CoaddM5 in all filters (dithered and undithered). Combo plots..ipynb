{
 "cells": [
  {
   "cell_type": "markdown",
   "metadata": {},
   "source": [
    "Calculate the number of visits and coadded depth in all filters, and generate a set of combined histograms with all filters for both un-dithered and dithered versions, then compare dithered vs. nondithered directly."
   ]
  },
  {
   "cell_type": "code",
   "execution_count": 1,
   "metadata": {
    "collapsed": false
   },
   "outputs": [],
   "source": [
    "# Import modules.\n",
    "import matplotlib.pyplot as plt\n",
    "%matplotlib inline\n",
    "import lsst.sims.maf.db as db\n",
    "import lsst.sims.maf.metrics as metrics\n",
    "import lsst.sims.maf.slicers as slicers\n",
    "import lsst.sims.maf.plots as plots\n",
    "from lsst.sims.maf.metricBundles import MetricBundle, MetricBundleGroup, makeBundleDict"
   ]
  },
  {
   "cell_type": "code",
   "execution_count": 2,
   "metadata": {
    "collapsed": false
   },
   "outputs": [],
   "source": [
    "# Connect to databases.\n",
    "runName = 'enigma_1189'\n",
    "opsdb = db.OpsimDatabase('sqlite:///enigma_1189_sqlite.db')\n",
    "outDir = 'allfilters_test'\n",
    "resultsDb = db.ResultsDb(outDir=outDir)"
   ]
  },
  {
   "cell_type": "code",
   "execution_count": 3,
   "metadata": {
    "collapsed": false
   },
   "outputs": [
    {
     "name": "stdout",
     "output_type": "stream",
     "text": [
      "Healpix slicer using NSIDE=64, approximate resolution 54.967783 arcminutes\n"
     ]
    }
   ],
   "source": [
    "# Set up metrics, slicer and summaryMetrics.\n",
    "m1 = metrics.CountMetric('expMJD', metricName='Nvisits')\n",
    "m2 = metrics.Coaddm5Metric()\n",
    "slicer = slicers.HealpixSlicer(nside=64)\n",
    "summaryMetrics = [metrics.MinMetric(), metrics.MeanMetric(), metrics.MaxMetric(), \n",
    "                  metrics.MedianMetric(), metrics.RmsMetric(), \n",
    "                 metrics.PercentileMetric(percentile=25), metrics.PercentileMetric(percentile=75)]\n",
    "# And I'll set a plotDict for the nvisits and coadded depth, because otherwise the DD fields throw the \n",
    "#  scale in the plots into too wide a range. \n",
    "#  (we could also generate plots, see this effect, then set the dict and regenerate the plots)\n",
    "nvisitsPlotRanges = {'xMin':0, 'xMax':300, 'colorMin':0, 'colorMax':300, 'binsize':5}\n",
    "coaddPlotRanges = {'xMin':24, 'xMax':28, 'colorMin':24, 'colorMax':28, 'binsize':0.02}"
   ]
  },
  {
   "cell_type": "code",
   "execution_count": 4,
   "metadata": {
    "collapsed": true
   },
   "outputs": [],
   "source": [
    "filterlist = ['u', 'g', 'r', 'i', 'z', 'y']\n",
    "filterorder = {'u':0, 'g':1, 'r':2, 'i':3, 'z':4, 'y':5}"
   ]
  },
  {
   "cell_type": "code",
   "execution_count": 5,
   "metadata": {
    "collapsed": false
   },
   "outputs": [
    {
     "name": "stdout",
     "output_type": "stream",
     "text": [
      "Querying database with constraint filter = \"u\"\n",
      "Found 186607 visits\n",
      "Running:  ['enigma_1189_Nvisits_u_HEAL', 'enigma_1189_CoaddM5_u_HEAL']\n",
      "Completed metric generation.\n",
      "Running reduce methods.\n",
      "Running summary statistics.\n",
      "Completed.\n",
      "Re-saving metric bundles.\n",
      "Plotting.\n",
      "monopole: 91.8942  dipole: lon: 59.2192, lat: 43.4286, amp: 31.4117\n",
      "monopole: 26.2078  dipole: lon: 107.842, lat: 56.8899, amp: 0.409452\n",
      "Plotting complete."
     ]
    },
    {
     "name": "stderr",
     "output_type": "stream",
     "text": [
      "/Users/lynnej/anaconda/lib/python2.7/site-packages/sqlalchemy/sql/elements.py:3738: SAWarning: Textual SQL expression 'filter = \"u\"' should be explicitly declared as text('filter = \"u\"') (this warning may be suppressed after 10 occurrences)\n",
      "  {\"expr\": util.ellipses_string(element)})\n",
      "/Users/lynnej/anaconda/lib/python2.7/site-packages/sqlalchemy/sql/elements.py:3738: SAWarning: Textual SQL expression 'filter = \"g\"' should be explicitly declared as text('filter = \"g\"') (this warning may be suppressed after 10 occurrences)\n",
      "  {\"expr\": util.ellipses_string(element)})\n"
     ]
    },
    {
     "name": "stdout",
     "output_type": "stream",
     "text": [
      "\n",
      "Querying database with constraint filter = \"g\"\n",
      "Found 249108 visits\n",
      "Running:  ['enigma_1189_CoaddM5_g_HEAL', 'enigma_1189_Nvisits_g_HEAL']\n",
      "Completed metric generation.\n",
      "Running reduce methods.\n",
      "Running summary statistics.\n",
      "Completed.\n",
      "Re-saving metric bundles.\n",
      "Plotting.\n",
      "monopole: 27.0102  dipole: lon: 169.794, lat: -78.7655, amp: 0.153593\n",
      "monopole: 85.8654  dipole: lon: 47.3336, lat: -72.0782, amp: 16.8093\n",
      "Plotting complete.\n",
      "Querying database with constraint filter = \"r\"\n",
      "Found 544710 visits\n",
      "Running:  ['enigma_1189_CoaddM5_r_HEAL', 'enigma_1189_Nvisits_r_HEAL']\n",
      "Completed metric generation.\n",
      "Running reduce methods.\n",
      "Running summary statistics.\n",
      "Completed.\n",
      "Re-saving metric bundles.\n",
      "Plotting.\n",
      "monopole: 27.1379  dipole: lon: 84.5111, lat: 29.0736, amp: 0.053101\n",
      "monopole: 191.913  dipole: lon: 64.7881, lat: -52.0156, amp: 26.8356\n",
      "Plotting complete.\n",
      "Querying database with constraint filter = \"i\"\n",
      "Found 545488 visits\n",
      "Running:  ['enigma_1189_CoaddM5_i_HEAL', 'enigma_1189_Nvisits_i_HEAL']\n",
      "Completed metric generation.\n",
      "Running reduce methods.\n",
      "Running summary statistics.\n",
      "Completed.\n",
      "Re-saving metric bundles.\n",
      "Plotting.\n",
      "monopole: 26.473  dipole: lon: 90.0548, lat: 82.6487, amp: 0.0744564\n",
      "monopole: 192.36  dipole: lon: 62.5713, lat: -51.4271, amp: 26.5207\n",
      "Plotting complete."
     ]
    },
    {
     "name": "stderr",
     "output_type": "stream",
     "text": [
      "/Users/lynnej/anaconda/lib/python2.7/site-packages/sqlalchemy/sql/elements.py:3738: SAWarning: Textual SQL expression 'filter = \"r\"' should be explicitly declared as text('filter = \"r\"') (this warning may be suppressed after 10 occurrences)\n",
      "  {\"expr\": util.ellipses_string(element)})\n",
      "/Users/lynnej/anaconda/lib/python2.7/site-packages/sqlalchemy/sql/elements.py:3738: SAWarning: Textual SQL expression 'filter = \"z\"' should be explicitly declared as text('filter = \"z\"') (this warning may be suppressed after 10 occurrences)\n",
      "  {\"expr\": util.ellipses_string(element)})\n"
     ]
    },
    {
     "name": "stdout",
     "output_type": "stream",
     "text": [
      "\n",
      "Querying database with constraint filter = \"z\"\n",
      "Found 497113 visits\n",
      "Running:  ['enigma_1189_CoaddM5_z_HEAL', 'enigma_1189_Nvisits_z_HEAL']\n",
      "Completed metric generation.\n",
      "Running reduce methods.\n",
      "Running summary statistics.\n",
      "Completed.\n",
      "Re-saving metric bundles.\n",
      "Plotting.\n",
      "monopole: 25.2538  dipole: lon: -16.3767, lat: -46.4422, amp: 0.0709537\n",
      "monopole: 173.744  dipole: lon: 50.5176, lat: -55.5403, amp: 28.7079\n",
      "Plotting complete.\n",
      "Querying database with constraint filter = \"y\"\n",
      "Found 446281 visits\n",
      "Running:  ['enigma_1189_CoaddM5_y_HEAL', 'enigma_1189_Nvisits_y_HEAL']\n",
      "Completed metric generation.\n",
      "Running reduce methods.\n",
      "Running summary statistics.\n",
      "Completed.\n",
      "Re-saving metric bundles.\n",
      "Plotting.\n",
      "monopole: 24.4738  dipole: lon: 93.5119, lat: 67.7959, amp: 0.58071\n",
      "monopole: 231.95  dipole: lon: 79.4409, lat: 63.0561, amp: 89.0194\n",
      "Plotting complete.\n"
     ]
    },
    {
     "name": "stderr",
     "output_type": "stream",
     "text": [
      "/Users/lynnej/anaconda/lib/python2.7/site-packages/sqlalchemy/sql/elements.py:3738: SAWarning: Textual SQL expression 'filter = \"y\"' should be explicitly declared as text('filter = \"y\"') (this warning may be suppressed after 10 occurrences)\n",
      "  {\"expr\": util.ellipses_string(element)})\n"
     ]
    }
   ],
   "source": [
    "# Run metricBundles for each filter. Group sql constraints into a MetricBundleGroup.\n",
    "nvisits = {}\n",
    "coadd = {}\n",
    "for f in filterlist:\n",
    "    sqlconstraint = 'filter = \"%s\"' %(f)\n",
    "    # Add displayDict stuff that's only useful for showMaf to put things in \"nice\" order.\n",
    "    displayDict = {'subgroup':'Undithered', 'order':filterorder[f], 'group':'Nvisits'}\n",
    "    nvisits[f] = MetricBundle(m1, slicer, sqlconstraint=sqlconstraint, runName=runName,\n",
    "                             summaryMetrics=summaryMetrics, plotDict=nvisitsPlotRanges,\n",
    "                             displayDict=displayDict)\n",
    "    displayDict['group'] = 'Coadd'\n",
    "    coadd[f] = MetricBundle(m2, slicer, sqlconstraint=sqlconstraint, runName=runName,\n",
    "                           summaryMetrics=summaryMetrics, plotDict=coaddPlotRanges,\n",
    "                           displayDict=displayDict)\n",
    "    bdict = makeBundleDict([nvisits[f], coadd[f]])\n",
    "    bgroup = MetricBundleGroup(bdict, opsdb, outDir=outDir, resultsDb=resultsDb)\n",
    "    bgroup.runAll()\n",
    "    bgroup.writeAll()\n",
    "    bgroup.plotAll()"
   ]
  },
  {
   "cell_type": "code",
   "execution_count": 6,
   "metadata": {
    "collapsed": false
   },
   "outputs": [
    {
     "name": "stdout",
     "output_type": "stream",
     "text": [
      "enigma_1189_CoaddM5_g_HEAL.npz                                enigma_1189_Nvisits_y_HEAL_SkyMap.pdf\r\n",
      "enigma_1189_CoaddM5_g_HEAL_Histogram.pdf                      enigma_1189_Nvisits_z_HEAL.npz\r\n",
      "enigma_1189_CoaddM5_g_HEAL_PowerSpectrum.pdf                  enigma_1189_Nvisits_z_HEAL_Histogram.pdf\r\n",
      "enigma_1189_CoaddM5_g_HEAL_SkyMap.pdf                         enigma_1189_Nvisits_z_HEAL_PowerSpectrum.pdf\r\n",
      "enigma_1189_CoaddM5_i_HEAL.npz                                enigma_1189_Nvisits_z_HEAL_SkyMap.pdf\r\n",
      "enigma_1189_CoaddM5_i_HEAL_Histogram.pdf                      resultsDb_sqlite.db\r\n",
      "enigma_1189_CoaddM5_i_HEAL_PowerSpectrum.pdf                  thumb.enigma_1189_CoaddM5_g_HEAL_Histogram.png\r\n",
      "enigma_1189_CoaddM5_i_HEAL_SkyMap.pdf                         thumb.enigma_1189_CoaddM5_g_HEAL_PowerSpectrum.png\r\n",
      "enigma_1189_CoaddM5_r_HEAL.npz                                thumb.enigma_1189_CoaddM5_g_HEAL_SkyMap.png\r\n",
      "enigma_1189_CoaddM5_r_HEAL_Histogram.pdf                      thumb.enigma_1189_CoaddM5_i_HEAL_Histogram.png\r\n",
      "enigma_1189_CoaddM5_r_HEAL_PowerSpectrum.pdf                  thumb.enigma_1189_CoaddM5_i_HEAL_PowerSpectrum.png\r\n",
      "enigma_1189_CoaddM5_r_HEAL_SkyMap.pdf                         thumb.enigma_1189_CoaddM5_i_HEAL_SkyMap.png\r\n",
      "enigma_1189_CoaddM5_u_HEAL.npz                                thumb.enigma_1189_CoaddM5_r_HEAL_Histogram.png\r\n",
      "enigma_1189_CoaddM5_u_HEAL_Histogram.pdf                      thumb.enigma_1189_CoaddM5_r_HEAL_PowerSpectrum.png\r\n",
      "enigma_1189_CoaddM5_u_HEAL_PowerSpectrum.pdf                  thumb.enigma_1189_CoaddM5_r_HEAL_SkyMap.png\r\n",
      "enigma_1189_CoaddM5_u_HEAL_SkyMap.pdf                         thumb.enigma_1189_CoaddM5_u_HEAL_Histogram.png\r\n",
      "enigma_1189_CoaddM5_y_HEAL.npz                                thumb.enigma_1189_CoaddM5_u_HEAL_PowerSpectrum.png\r\n",
      "enigma_1189_CoaddM5_y_HEAL_Histogram.pdf                      thumb.enigma_1189_CoaddM5_u_HEAL_SkyMap.png\r\n",
      "enigma_1189_CoaddM5_y_HEAL_PowerSpectrum.pdf                  thumb.enigma_1189_CoaddM5_y_HEAL_Histogram.png\r\n",
      "enigma_1189_CoaddM5_y_HEAL_SkyMap.pdf                         thumb.enigma_1189_CoaddM5_y_HEAL_PowerSpectrum.png\r\n",
      "enigma_1189_CoaddM5_z_HEAL.npz                                thumb.enigma_1189_CoaddM5_y_HEAL_SkyMap.png\r\n",
      "enigma_1189_CoaddM5_z_HEAL_Histogram.pdf                      thumb.enigma_1189_CoaddM5_z_HEAL_Histogram.png\r\n",
      "enigma_1189_CoaddM5_z_HEAL_PowerSpectrum.pdf                  thumb.enigma_1189_CoaddM5_z_HEAL_PowerSpectrum.png\r\n",
      "enigma_1189_CoaddM5_z_HEAL_SkyMap.pdf                         thumb.enigma_1189_CoaddM5_z_HEAL_SkyMap.png\r\n",
      "enigma_1189_Nvisits_g_HEAL.npz                                thumb.enigma_1189_Nvisits_g_HEAL_Histogram.png\r\n",
      "enigma_1189_Nvisits_g_HEAL_Histogram.pdf                      thumb.enigma_1189_Nvisits_g_HEAL_PowerSpectrum.png\r\n",
      "enigma_1189_Nvisits_g_HEAL_PowerSpectrum.pdf                  thumb.enigma_1189_Nvisits_g_HEAL_SkyMap.png\r\n",
      "enigma_1189_Nvisits_g_HEAL_SkyMap.pdf                         thumb.enigma_1189_Nvisits_i_HEAL_Histogram.png\r\n",
      "enigma_1189_Nvisits_i_HEAL.npz                                thumb.enigma_1189_Nvisits_i_HEAL_PowerSpectrum.png\r\n",
      "enigma_1189_Nvisits_i_HEAL_Histogram.pdf                      thumb.enigma_1189_Nvisits_i_HEAL_SkyMap.png\r\n",
      "enigma_1189_Nvisits_i_HEAL_PowerSpectrum.pdf                  thumb.enigma_1189_Nvisits_r_HEAL_Histogram.png\r\n",
      "enigma_1189_Nvisits_i_HEAL_SkyMap.pdf                         thumb.enigma_1189_Nvisits_r_HEAL_PowerSpectrum.png\r\n",
      "enigma_1189_Nvisits_r_HEAL.npz                                thumb.enigma_1189_Nvisits_r_HEAL_SkyMap.png\r\n",
      "enigma_1189_Nvisits_r_HEAL_Histogram.pdf                      thumb.enigma_1189_Nvisits_u_HEAL_Histogram.png\r\n",
      "enigma_1189_Nvisits_r_HEAL_PowerSpectrum.pdf                  thumb.enigma_1189_Nvisits_u_HEAL_PowerSpectrum.png\r\n",
      "enigma_1189_Nvisits_r_HEAL_SkyMap.pdf                         thumb.enigma_1189_Nvisits_u_HEAL_SkyMap.png\r\n",
      "enigma_1189_Nvisits_u_HEAL.npz                                thumb.enigma_1189_Nvisits_u_g_r_i_z_y_HEAL_ComboHistogram.png\r\n",
      "enigma_1189_Nvisits_u_HEAL_Histogram.pdf                      thumb.enigma_1189_Nvisits_y_HEAL_Histogram.png\r\n",
      "enigma_1189_Nvisits_u_HEAL_PowerSpectrum.pdf                  thumb.enigma_1189_Nvisits_y_HEAL_PowerSpectrum.png\r\n",
      "enigma_1189_Nvisits_u_HEAL_SkyMap.pdf                         thumb.enigma_1189_Nvisits_y_HEAL_SkyMap.png\r\n",
      "enigma_1189_Nvisits_u_g_r_i_z_y_HEAL_ComboHistogram.pdf       thumb.enigma_1189_Nvisits_z_HEAL_Histogram.png\r\n",
      "enigma_1189_Nvisits_y_HEAL.npz                                thumb.enigma_1189_Nvisits_z_HEAL_PowerSpectrum.png\r\n",
      "enigma_1189_Nvisits_y_HEAL_Histogram.pdf                      thumb.enigma_1189_Nvisits_z_HEAL_SkyMap.png\r\n",
      "enigma_1189_Nvisits_y_HEAL_PowerSpectrum.pdf\r\n"
     ]
    }
   ],
   "source": [
    "!ls $outDir"
   ]
  },
  {
   "cell_type": "code",
   "execution_count": 7,
   "metadata": {
    "collapsed": false,
    "scrolled": true
   },
   "outputs": [
    {
     "name": "stdout",
     "output_type": "stream",
     "text": [
      "Nvisits --\n",
      "{'25th%ile': 62.0, 'Rms': 248.24502352933479, '75th%ile': 64.0, 'Min': 30.0, 'Max': 5563.0, 'Median': 63.0, 'Mean': 81.733751902587514}\n",
      "{'25th%ile': 60.0, 'Rms': 90.483016059217988, '75th%ile': 90.0, 'Min': 30.0, 'Max': 2331.0, 'Median': 88.0, 'Mean': 91.84816922236152}\n",
      "{'25th%ile': 92.0, 'Rms': 192.03189557237977, '75th%ile': 205.0, 'Min': 30.0, 'Max': 4739.0, 'Median': 200.0, 'Mean': 200.74209409949864}\n",
      "{'25th%ile': 92.0, 'Rms': 192.42365476827487, '75th%ile': 206.0, 'Min': 30.0, 'Max': 4746.0, 'Median': 200.0, 'Mean': 201.02162874405451}\n",
      "{'25th%ile': 80.0, 'Rms': 222.23648923718289, '75th%ile': 184.0, 'Min': 30.0, 'Max': 5733.0, 'Median': 182.0, 'Mean': 183.25572052963105}\n",
      "{'25th%ile': 177.0, 'Rms': 188.1036315286421, '75th%ile': 183.0, 'Min': 30.0, 'Max': 4267.0, 'Median': 181.0, 'Mean': 194.83660578386605}\n",
      "Coadd --\n",
      "{'25th%ile': 26.060606690193758, 'Rms': 0.44563101987966264, '75th%ile': 26.219333829710511, 'Min': 24.333663574714429, 'Max': 28.58189623576245, 'Median': 26.133804555920229, 'Mean': 26.046381059283988}\n",
      "{'25th%ile': 26.64356074010599, 'Rms': 0.45978891899442309, '75th%ile': 27.315977583773954, 'Min': 25.811927024065472, 'Max': 28.825327640479156, 'Median': 27.228208876270195, 'Mean': 27.063382395086098}\n",
      "{'25th%ile': 26.724000935941792, 'Rms': 0.58200618426628059, '75th%ile': 27.430859898364076, 'Min': 25.407920554732918, 'Max': 29.004057990108247, 'Median': 27.376904669058302, 'Mean': 27.133124992019265}\n",
      "{'25th%ile': 26.102203298395672, 'Rms': 0.54027818530286809, '75th%ile': 26.737104684303308, 'Min': 24.827390640008002, 'Max': 28.431503741676316, 'Median': 26.651996891062364, 'Mean': 26.447926081739915}\n",
      "{'25th%ile': 25.045315775004301, 'Rms': 0.36879036483158167, '75th%ile': 25.451127536873038, 'Min': 24.129223939550961, 'Max': 27.874915672722519, 'Median': 25.35083687245946, 'Mean': 25.270853455050919}\n",
      "{'25th%ile': 24.316697881878927, 'Rms': 0.51831076739770132, '75th%ile': 24.40438733474652, 'Min': 22.562134887003932, 'Max': 26.150408087320333, 'Median': 24.364087870940658, 'Mean': 24.222661695842042}\n"
     ]
    }
   ],
   "source": [
    "print 'Nvisits --'\n",
    "for f in filterlist:\n",
    "    print nvisits[f].summaryValues\n",
    "print 'Coadd --'\n",
    "for f in filterlist:\n",
    "    print coadd[f].summaryValues"
   ]
  },
  {
   "cell_type": "markdown",
   "metadata": {},
   "source": [
    "Now let's try to combine the histograms."
   ]
  },
  {
   "cell_type": "code",
   "execution_count": 8,
   "metadata": {
    "collapsed": true
   },
   "outputs": [],
   "source": [
    "# Set more complicated plot labels directly in the bundles.\n",
    "for f in filterlist:\n",
    "    nvisits[f].setPlotDict({'label':'%s  %1.f/%.1f/%1.f' %(f, nvisits[f].summaryValues['25th%ile'], \n",
    "                                                    nvisits[f].summaryValues['Median'], \n",
    "                                                   nvisits[f].summaryValues['75th%ile'])})\n",
    "    coadd[f].setPlotDict({'label':'%s %.2f/%.2f/%.2f' %(f, coadd[f].summaryValues['25th%ile'],\n",
    "                                                 coadd[f].summaryValues['Median'],\n",
    "                                                 coadd[f].summaryValues['75th%ile'])})"
   ]
  },
  {
   "cell_type": "code",
   "execution_count": 9,
   "metadata": {
    "collapsed": false
   },
   "outputs": [
    {
     "data": {
      "text/plain": [
       "2"
      ]
     },
     "execution_count": 9,
     "metadata": {},
     "output_type": "execute_result"
    },
    {
     "data": {
      "image/png": "[encoded data removed]",
      "text/plain": [
       "<matplotlib.figure.Figure at 0x11d328310>"
      ]
     },
     "metadata": {},
     "output_type": "display_data"
    },
    {
     "data": {
      "image/png": "[encoded data removed]",
      "text/plain": [
       "<matplotlib.figure.Figure at 0x128a13c50>"
      ]
     },
     "metadata": {},
     "output_type": "display_data"
    }
   ],
   "source": [
    "# Set up the plotHandler.\n",
    "ph = plots.PlotHandler(outDir=outDir, resultsDb=resultsDb)\n",
    "# Instantiate the healpix histogram plotter, since we'll use it a lot.\n",
    "healpixhist = plots.HealpixHistogram()\n",
    "ph.setMetricBundles(nvisits)\n",
    "# Add min/max values to the plots, which will be used for the combo histogram for nvisits.\n",
    "ph.setPlotDict(nvisitsPlotRanges)\n",
    "ph.plot(plotFunc=healpixhist)\n",
    "# And generate the coadd combo histogram too. \n",
    "ph.setMetricBundles(coadd)\n",
    "ph.setPlotDict(coaddPlotRanges)\n",
    "ph.plot(plotFunc=healpixhist)"
   ]
  },
  {
   "cell_type": "code",
   "execution_count": null,
   "metadata": {
    "collapsed": false
   },
   "outputs": [
    {
     "name": "stdout",
     "output_type": "stream",
     "text": [
      "Healpix slicer using NSIDE=64, approximate resolution 54.967783 arcminutes\n"
     ]
    }
   ],
   "source": [
    "# Set up to calculate the same metrics, but using the dithered pointings.\n",
    "slicer = slicers.HealpixSlicer(nside=64, lonCol='ditheredRA', latCol='ditheredDec')"
   ]
  },
  {
   "cell_type": "code",
   "execution_count": null,
   "metadata": {
    "collapsed": false
   },
   "outputs": [
    {
     "name": "stdout",
     "output_type": "stream",
     "text": [
      "Querying database with constraint filter = \"u\"\n",
      "Found 186607 visits\n",
      "Running:  ['enigma_1189_Nvisits_u_Dithered_HEAL', 'enigma_1189_CoaddM5_u_Dithered_HEAL']\n",
      "Completed metric generation.\n",
      "Running reduce methods.\n",
      "Running summary statistics.\n",
      "Completed.\n",
      "Re-saving metric bundles.\n",
      "Plotting.\n",
      "monopole: 82.4488  dipole: lon: 58.8905, lat: 18.4789, amp: 23.059\n",
      "monopole: 26.0748  dipole: lon: 104.616, lat: 16.3836, amp: 0.238509\n",
      "Plotting complete.\n",
      "Querying database with constraint filter = \"g\"\n",
      "Found 249108 visits\n",
      "Running:  ['enigma_1189_CoaddM5_g_Dithered_HEAL', 'enigma_1189_Nvisits_g_Dithered_HEAL']\n",
      "Completed metric generation.\n",
      "Running reduce methods.\n",
      "Running summary statistics.\n",
      "Completed.\n",
      "Re-saving metric bundles.\n",
      "Plotting.\n",
      "monopole: 26.9501  dipole: lon: 127.109, lat: -80.7412, amp: 0.318122\n",
      "monopole: 81.2832  dipole: lon: 57.0337, lat: -73.0282, amp: 24.643\n",
      "Plotting complete.\n",
      "Querying database with constraint filter = \"r\"\n",
      "Found 544710 visits\n",
      "Running:  ['enigma_1189_CoaddM5_r_Dithered_HEAL', 'enigma_1189_Nvisits_r_Dithered_HEAL']\n",
      "Completed metric generation.\n",
      "Running reduce methods.\n",
      "Running summary statistics.\n",
      "Completed.\n",
      "Re-saving metric bundles.\n",
      "Plotting.\n",
      "monopole: 27.0641  dipole: lon: 89.1067, lat: -64.5072, amp: 0.194893\n",
      "monopole: 180.369  dipole: lon: 66.4163, lat: -60.9528, amp: 45.6795\n",
      "Plotting complete.\n",
      "Querying database with constraint filter = \"i\"\n",
      "Found 545488 visits\n",
      "Running:  ['enigma_1189_CoaddM5_i_Dithered_HEAL', 'enigma_1189_Nvisits_i_Dithered_HEAL']\n",
      "Completed metric generation.\n",
      "Running reduce methods.\n",
      "Running summary statistics.\n",
      "Completed.\n",
      "Re-saving metric bundles.\n",
      "Plotting.\n",
      "monopole: 26.3992  dipole: lon: 89.4592, lat: -66.0679, amp: 0.132603"
     ]
    }
   ],
   "source": [
    "# run dithered bundles\n",
    "nvisitsDith = {}\n",
    "coaddDith = {}\n",
    "for f in filterlist:\n",
    "    sqlconstraint = 'filter = \"%s\"' %(f)\n",
    "    displayDict = {'subgroup':'Dithered', 'order':filterorder[f], 'group':'Nvisits'}\n",
    "    nvisitsDith[f] = MetricBundle(m1, slicer, sqlconstraint=sqlconstraint, runName=runName,\n",
    "                                  metadata = '%s Dithered' %(f), \n",
    "                                  summaryMetrics=summaryMetrics, plotDict=nvisitsPlotRanges,\n",
    "                                 displayDict=displayDict)\n",
    "    displayDict['group'] = 'Coadd'\n",
    "    coaddDith[f] = MetricBundle(m2, slicer, sqlconstraint=sqlconstraint, runName=runName,\n",
    "                                metadata = '%s Dithered' %(f), \n",
    "                                summaryMetrics=summaryMetrics, plotDict=coaddPlotRanges,\n",
    "                               displayDict=displayDict)\n",
    "    bdict = makeBundleDict([nvisitsDith[f], coaddDith[f]])\n",
    "    bgroup = MetricBundleGroup(bdict, opsdb, outDir=outDir, resultsDb=resultsDb)\n",
    "    bgroup.runAll()\n",
    "    bgroup.writeAll()\n",
    "    bgroup.plotAll()"
   ]
  },
  {
   "cell_type": "code",
   "execution_count": null,
   "metadata": {
    "collapsed": true
   },
   "outputs": [],
   "source": [
    "# set plot labels for dithered bundles\n",
    "for f in filterlist:\n",
    "    nvisitsDith[f].setPlotDict({'label':'%s dithered  %1.f/%.1f/%1.f' %(f, nvisitsDith[f].summaryValues['25th%ile'], \n",
    "                                                    nvisitsDith[f].summaryValues['Median'], \n",
    "                                                   nvisitsDith[f].summaryValues['75th%ile'])})\n",
    "    coaddDith[f].setPlotDict({'label':'%s dithered %.2f/%.2f/%.2f' %(f, coaddDith[f].summaryValues['25th%ile'],\n",
    "                                                 coaddDith[f].summaryValues['Median'],\n",
    "                                                 coaddDith[f].summaryValues['75th%ile'])})    "
   ]
  },
  {
   "cell_type": "code",
   "execution_count": null,
   "metadata": {
    "collapsed": false
   },
   "outputs": [],
   "source": [
    "# Plot all filters, dithered version\n",
    "ph.setMetricBundles(nvisitsDith)\n",
    "# Add min/max values to the plots, which will be used for the combo histogram.\n",
    "ph.setPlotDict(nvisitsPlotRanges)\n",
    "ph.plot(plotFunc=healpixhist)\n",
    "ph.setMetricBundles(coaddDith)\n",
    "ph.setPlotDict(coaddPlotRanges)\n",
    "ph.plot(plotFunc=healpixhist)"
   ]
  },
  {
   "cell_type": "code",
   "execution_count": null,
   "metadata": {
    "collapsed": false
   },
   "outputs": [],
   "source": [
    "# plot dithered vs. non-dithered. Note that this resets xMin/xMax, so that they are set dynamically for each plot.\n",
    "for f in filterlist:\n",
    "    ph.setMetricBundles([nvisits[f], nvisitsDith[f]])\n",
    "    ph.plot(plotFunc=healpixhist, plotDict={'percentileClip':96, 'binsize':2, 'colors':['b', 'r']})\n",
    "    ph.setMetricBundles([coadd[f], coaddDith[f]])\n",
    "    ph.plot(plotFunc=healpixhist, plotDict={'legendloc':'upper left', 'binsize':0.02, \n",
    "                                            'colors':['b', 'r'], 'percentileClip':96})"
   ]
  },
  {
   "cell_type": "code",
   "execution_count": null,
   "metadata": {
    "collapsed": false
   },
   "outputs": [],
   "source": [
    "# Save some information on the opsim run itself to disk. \n",
    "#  This helps 'showMaf' look pretty and tracks information about the opsim run.\n",
    "from lsst.sims.maf.utils import writeConfigs\n",
    "writeConfigs(opsdb, outDir)"
   ]
  },
  {
   "cell_type": "code",
   "execution_count": null,
   "metadata": {
    "collapsed": true
   },
   "outputs": [],
   "source": []
  },
  {
   "cell_type": "code",
   "execution_count": null,
   "metadata": {
    "collapsed": true
   },
   "outputs": [],
   "source": [
    "\n"
   ]
  }
 ],
 "metadata": {
  "kernelspec": {
   "display_name": "Python 2",
   "language": "python",
   "name": "python2"
  },
  "language_info": {
   "codemirror_mode": {
    "name": "ipython",
    "version": 2
   },
   "file_extension": ".py",
   "mimetype": "text/x-python",
   "name": "python",
   "nbconvert_exporter": "python",
   "pygments_lexer": "ipython2",
   "version": "2.7.9"
  }
 },
 "nbformat": 4,
 "nbformat_minor": 0
}
