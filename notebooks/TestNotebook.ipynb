{
 "cells": [
  {
   "cell_type": "markdown",
   "metadata": {},
   "source": [
    "This is just a very little test notebook. It might give you a place to play, and it ought to indicate if the  notebook environment is working.\n",
    "\n",
    "If you have more questions about ipython notebooks, you might find the [documentation](http://ipython.org/ipython-doc/stable/interactive/tutorial.html) useful. I also like the [ipython tutorials](http://nbviewer.ipython.org/github/AstroHackWeek/AstroHackWeek2014/blob/master/day1/ipython/Index.ipynb) from the 2014 Astro Hack Week. "
   ]
  },
  {
   "cell_type": "code",
   "execution_count": 1,
   "metadata": {
    "collapsed": false
   },
   "outputs": [
    {
     "name": "stdout",
     "output_type": "stream",
     "text": [
      "Hi\n"
     ]
    }
   ],
   "source": [
    "print \"Hi\""
   ]
  },
  {
   "cell_type": "code",
   "execution_count": 2,
   "metadata": {
    "collapsed": true
   },
   "outputs": [],
   "source": [
    "import os\n",
    "yourname = os.getenv('USER')"
   ]
  },
  {
   "cell_type": "code",
   "execution_count": 3,
   "metadata": {
    "collapsed": false
   },
   "outputs": [
    {
     "name": "stdout",
     "output_type": "stream",
     "text": [
      "Hi lynnej\n"
     ]
    }
   ],
   "source": [
    "print \"Hi\", yourname"
   ]
  },
  {
   "cell_type": "code",
   "execution_count": 8,
   "metadata": {
    "collapsed": false
   },
   "outputs": [
    {
     "name": "stdout",
     "output_type": "stream",
     "text": [
      "I think I'm in directory  /Users/lynnej/lsstRepos/sims_maf_notebooks/notebooks\n"
     ]
    }
   ],
   "source": [
    "currentdir = os.getenv('PWD')\n",
    "print \"I think I'm in directory \", currentdir"
   ]
  },
  {
   "cell_type": "code",
   "execution_count": 9,
   "metadata": {
    "collapsed": false
   },
   "outputs": [
    {
     "name": "stdout",
     "output_type": "stream",
     "text": [
      "Things in this directory include: \n",
      "['Astrometry', 'AstrometryMetrics.ipynb', 'Completeness_complexMetric.ipynb', 'DepthGoodSeeing.ipynb', 'DepthPerYear.ipynb', 'Depths', 'Dithers.ipynb', 'GoodSeeing', 'IntroductionNotebook.ipynb', 'MetricBundleExample.ipynb', 'NVisitsCoadd_AllFilters_DitherComparison.ipynb', 'README.md', 'Slicers', 'Slicers.ipynb', 'Stackers', 'Stackers.ipynb', 'TestNotebook.ipynb', 'UsingMetricBundleData.ipynb', 'allfilters_test', 'allfilters_test_plots', 'bundle_test', 'completeness_test', 'enigma_1189_sqlite.db', 'output_directory', 'trackingDb_sqlite.db', 'transientExample.ipynb']\n"
     ]
    }
   ],
   "source": [
    "filenames = !ls\n",
    "print \"Things in this directory include: \"\n",
    "print filenames"
   ]
  },
  {
   "cell_type": "markdown",
   "metadata": {},
   "source": [
    "Let's try to import various modules. "
   ]
  },
  {
   "cell_type": "code",
   "execution_count": 4,
   "metadata": {
    "collapsed": true
   },
   "outputs": [],
   "source": [
    "import numpy as np"
   ]
  },
  {
   "cell_type": "code",
   "execution_count": 5,
   "metadata": {
    "collapsed": true
   },
   "outputs": [],
   "source": [
    "import matplotlib.pyplot as plt\n",
    "%matplotlib inline"
   ]
  },
  {
   "cell_type": "markdown",
   "metadata": {},
   "source": [
    "And why not get all of the possible maf modules loaded up. "
   ]
  },
  {
   "cell_type": "code",
   "execution_count": 10,
   "metadata": {
    "collapsed": false
   },
   "outputs": [],
   "source": [
    "import lsst.sims.maf.db as db\n",
    "import lsst.sims.maf.metrics as metrics\n",
    "import lsst.sims.maf.slicers as slicers\n",
    "import lsst.sims.maf.stackers as stackers\n",
    "import lsst.sims.maf.plots as plot\n",
    "import lsst.sims.maf.utils as utils\n",
    "import lsst.sims.maf.metricBundles as metricBundles"
   ]
  },
  {
   "cell_type": "code",
   "execution_count": null,
   "metadata": {
    "collapsed": true
   },
   "outputs": [],
   "source": []
  }
 ],
 "metadata": {
  "kernelspec": {
   "display_name": "Python 2",
   "language": "python",
   "name": "python2"
  },
  "language_info": {
   "codemirror_mode": {
    "name": "ipython",
    "version": 2
   },
   "file_extension": ".py",
   "mimetype": "text/x-python",
   "name": "python",
   "nbconvert_exporter": "python",
   "pygments_lexer": "ipython2",
   "version": "2.7.9"
  }
 },
 "nbformat": 4,
 "nbformat_minor": 0
}
