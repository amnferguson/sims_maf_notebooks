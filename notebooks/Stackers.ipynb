{
 "metadata": {
  "kernelspec": {
   "display_name": "Python 2",
   "language": "python",
   "name": "python2"
  },
  "language_info": {
   "codemirror_mode": {
    "name": "ipython",
    "version": 2
   },
   "file_extension": ".py",
   "mimetype": "text/x-python",
   "name": "python",
   "nbconvert_exporter": "python",
   "pygments_lexer": "ipython2",
   "version": "2.7.9"
  },
  "name": "",
  "signature": "sha256:752fa1acf663fdf0f01564f9dc7509989d31c5e163ec8d9de2070872c7e2d907"
 },
 "nbformat": 3,
 "nbformat_minor": 0,
 "worksheets": [
  {
   "cells": [
    {
     "cell_type": "code",
     "collapsed": false,
     "input": [
      "import os\n",
      "import numpy as np\n",
      "import matplotlib.pyplot as plt\n",
      "%matplotlib inline\n",
      "import healpy as hp\n",
      "\n",
      "import lsst.sims.maf.slicers as slicers\n",
      "import lsst.sims.maf.metrics as metrics\n",
      "import lsst.sims.maf.metricBundles as metricBundles\n",
      "import lsst.sims.maf.db as db"
     ],
     "language": "python",
     "metadata": {},
     "outputs": [],
     "prompt_number": 1
    },
    {
     "cell_type": "code",
     "collapsed": false,
     "input": [
      "# Pick a slicer\n",
      "slicer = slicers.HealpixSlicer(nside=64)\n",
      "\n",
      "# Set the database and query\n",
      "dbAddress = 'sqlite:///enigma_1189_sqlite.db'\n",
      "sqlconstraint = 'filter = \"r\" and night < 400'\n",
      "opsdb = db.OpsimDatabase('sqlite:///enigma_1189_sqlite.db')\n",
      "outDir = 'Stackers'\n",
      "resultsDb = db.ResultsDb(outDir=outDir)"
     ],
     "language": "python",
     "metadata": {},
     "outputs": [
      {
       "output_type": "stream",
       "stream": "stdout",
       "text": [
        "Healpix slicer using NSIDE=64, approximate resolution 54.967783 arcminutes\n"
       ]
      }
     ],
     "prompt_number": 2
    },
    {
     "cell_type": "markdown",
     "metadata": {},
     "source": [
      "By default, OpSim does not record the hour angle of each observation.  However, we have a stacker that will automatically add that column if it is requested."
     ]
    },
    {
     "cell_type": "code",
     "collapsed": false,
     "input": [
      "metric = metrics.MeanMetric(col='HA')\n",
      "bundle = metricBundles.MetricBundle(metric, slicer, sqlconstraint)\n",
      "bgroup = metricBundles.MetricBundleGroup({0:bundle}, opsdb, outDir=outDir, resultsDb=resultsDb)"
     ],
     "language": "python",
     "metadata": {},
     "outputs": [],
     "prompt_number": 3
    },
    {
     "cell_type": "code",
     "collapsed": false,
     "input": [
      "bgroup.runAll()\n",
      "bgroup.plotAll()"
     ],
     "language": "python",
     "metadata": {},
     "outputs": [
      {
       "output_type": "stream",
       "stream": "stdout",
       "text": [
        "Querying database with constraint filter = \"r\" and night < 400\n",
        "Found 46128 visits"
       ]
      },
      {
       "output_type": "stream",
       "stream": "stdout",
       "text": [
        "\n",
        "Running:  [0]\n",
        "Completed metric generation."
       ]
      },
      {
       "output_type": "stream",
       "stream": "stdout",
       "text": [
        "\n",
        "Running reduce methods.\n",
        "Running summary statistics.\n",
        "Completed.\n",
        "Plotting.\n",
        "monopole: 0.081992  dipole: lon: -75.9297, lat: 71.0826, amp: 1.80459"
       ]
      },
      {
       "output_type": "stream",
       "stream": "stdout",
       "text": [
        "\n",
        "Plotting complete."
       ]
      },
      {
       "output_type": "stream",
       "stream": "stdout",
       "text": [
        "\n"
       ]
      }
     ],
     "prompt_number": 4
    },
    {
     "cell_type": "markdown",
     "metadata": {},
     "source": [
      "Now let's use a stacker to try out some different dithering options.  Rather than the standard fieldRA and fieldDec columns, we'll add columns that are slightly offset."
     ]
    },
    {
     "cell_type": "code",
     "collapsed": false,
     "input": [
      "slicer = slicers.HealpixSlicer(nside=64, lonCol='nightlyRandomRADither', latCol='nightlyRandomDecDither')"
     ],
     "language": "python",
     "metadata": {},
     "outputs": [
      {
       "output_type": "stream",
       "stream": "stdout",
       "text": [
        "Healpix slicer using NSIDE=64, approximate resolution 54.967783 arcminutes\n"
       ]
      }
     ],
     "prompt_number": 5
    },
    {
     "cell_type": "code",
     "collapsed": false,
     "input": [
      "metric = metrics.CountMetric(col='night')"
     ],
     "language": "python",
     "metadata": {},
     "outputs": [],
     "prompt_number": 6
    },
    {
     "cell_type": "code",
     "collapsed": false,
     "input": [
      "import lsst.sims.maf.stackers as stackers\n",
      "maxDither = 0.1\n",
      "stackerList = [stackers.NightlyRandomDitherStacker(maxDither=maxDither)]"
     ],
     "language": "python",
     "metadata": {},
     "outputs": [],
     "prompt_number": 7
    },
    {
     "cell_type": "code",
     "collapsed": false,
     "input": [
      "plotDict={'colorMax':50, 'xlabel':'Number of Visits', 'label':'max dither = %.2f' % maxDither}\n",
      "bundle = metricBundles.MetricBundle(metric, slicer, sqlconstraint, stackerList=stackerList, plotDict=plotDict)\n",
      "bgroup = metricBundles.MetricBundleGroup({0:bundle}, opsdb, outDir=outDir, resultsDb=resultsDb)"
     ],
     "language": "python",
     "metadata": {},
     "outputs": [],
     "prompt_number": 8
    },
    {
     "cell_type": "code",
     "collapsed": false,
     "input": [
      "bgroup.runAll()\n",
      "bgroup.plotAll()"
     ],
     "language": "python",
     "metadata": {},
     "outputs": [
      {
       "output_type": "stream",
       "stream": "stdout",
       "text": [
        "Querying database with constraint filter = \"r\" and night < 400\n",
        "Found 46128 visits"
       ]
      },
      {
       "output_type": "stream",
       "stream": "stdout",
       "text": [
        "\n",
        "Running:  [0]\n",
        "Completed metric generation."
       ]
      },
      {
       "output_type": "stream",
       "stream": "stdout",
       "text": [
        "\n",
        "Running reduce methods.\n",
        "Running summary statistics.\n",
        "Completed.\n",
        "Plotting.\n",
        "monopole: 14.2432  dipole: lon: 57.2993, lat: -76.4885, amp: 7.68434"
       ]
      },
      {
       "output_type": "stream",
       "stream": "stdout",
       "text": [
        "\n",
        "Plotting complete."
       ]
      },
      {
       "output_type": "stream",
       "stream": "stdout",
       "text": [
        "\n"
       ]
      },
      {
       "output_type": "stream",
       "stream": "stderr",
       "text": [
        "Optimal bin calculation tried to make 567 bins, returning 200\n"
       ]
      }
     ],
     "prompt_number": 9
    },
    {
     "cell_type": "code",
     "collapsed": false,
     "input": [
      "# Update the stacker to use a larger max dither and re-run the bundle\n",
      "maxDither = 1.75\n",
      "plotDict2 = {'colorMax':50, 'xlabel':'Number of Visits', 'label':'max dither = %.2f' % maxDither}\n",
      "stackerList = [stackers.NightlyRandomDitherStacker(maxDither=maxDither)]\n",
      "bundle2 = metricBundles.MetricBundle(metric, slicer, sqlconstraint, stackerList=stackerList, plotDict=plotDict2)\n",
      "bgroup2 = metricBundles.MetricBundleGroup({0:bundle2}, opsdb, outDir=outDir, resultsDb=resultsDb)\n"
     ],
     "language": "python",
     "metadata": {},
     "outputs": [],
     "prompt_number": 10
    },
    {
     "cell_type": "code",
     "collapsed": false,
     "input": [
      "bgroup2.runAll()\n",
      "bgroup2.plotAll()"
     ],
     "language": "python",
     "metadata": {},
     "outputs": [
      {
       "output_type": "stream",
       "stream": "stdout",
       "text": [
        "Querying database with constraint filter = \"r\" and night < 400\n",
        "Found 46128 visits"
       ]
      },
      {
       "output_type": "stream",
       "stream": "stdout",
       "text": [
        "\n",
        "Running:  [0]\n",
        "Completed metric generation."
       ]
      },
      {
       "output_type": "stream",
       "stream": "stdout",
       "text": [
        "\n",
        "Running reduce methods.\n",
        "Running summary statistics.\n",
        "Completed.\n",
        "Plotting.\n",
        "monopole: 13.6355  dipole: lon: 61.7952, lat: -76.1775, amp: 8.77583"
       ]
      },
      {
       "output_type": "stream",
       "stream": "stdout",
       "text": [
        "\n",
        "Plotting complete."
       ]
      },
      {
       "output_type": "stream",
       "stream": "stdout",
       "text": [
        "\n"
       ]
      },
      {
       "output_type": "stream",
       "stream": "stderr",
       "text": [
        "Optimal bin calculation tried to make 708 bins, returning 200\n"
       ]
      }
     ],
     "prompt_number": 11
    },
    {
     "cell_type": "markdown",
     "metadata": {},
     "source": [
      "Now we can combine the results on a single plot if we want to more easily compare them."
     ]
    },
    {
     "cell_type": "code",
     "collapsed": false,
     "input": [
      "from lsst.sims.maf.plots import HealpixPowerSpectrum\n",
      "fig = plt.figure(1)\n",
      "plotter = HealpixPowerSpectrum()\n",
      "plotter(bundle.metricValues, slicer, {'label':'max dither 0.1'}, fignum=1)\n",
      "plotter(bundle2.metricValues, slicer, {'label':'max dither 1.75'}, fignum=1)\n",
      "plt.legend()"
     ],
     "language": "python",
     "metadata": {},
     "outputs": [
      {
       "output_type": "stream",
       "stream": "stdout",
       "text": [
        "monopole: 14.2432  dipole: lon: 57.2993, lat: -76.4885, amp: 7.68434\n",
        "monopole: 13.6355  dipole: lon: 61.7952, lat: -76.1775, amp: 8.77583"
       ]
      },
      {
       "output_type": "stream",
       "stream": "stdout",
       "text": [
        "\n"
       ]
      },
      {
       "metadata": {},
       "output_type": "pyout",
       "prompt_number": 12,
       "text": [
        "<matplotlib.legend.Legend at 0x117021c90>"
       ]
      },
      {
       "metadata": {},
       "output_type": "display_data",
       "png": "[encoded data removed]",
       "text": [
        "<matplotlib.figure.Figure at 0x106894090>"
       ]
      }
     ],
     "prompt_number": 12
    },
    {
     "cell_type": "code",
     "collapsed": false,
     "input": [],
     "language": "python",
     "metadata": {},
     "outputs": [],
     "prompt_number": 12
    }
   ],
   "metadata": {}
  }
 ]
}